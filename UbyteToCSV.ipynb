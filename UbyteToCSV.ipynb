{
 "cells": [
  {
   "cell_type": "code",
   "id": "initial_id",
   "metadata": {
    "collapsed": true,
    "ExecuteTime": {
     "end_time": "2025-06-16T02:46:22.520941Z",
     "start_time": "2025-06-16T02:46:22.517937Z"
    }
   },
   "source": [
    "import struct\n",
    "import csv"
   ],
   "outputs": [],
   "execution_count": 1
  },
  {
   "metadata": {
    "ExecuteTime": {
     "end_time": "2025-06-16T02:46:22.656697Z",
     "start_time": "2025-06-16T02:46:22.652869Z"
    }
   },
   "cell_type": "code",
   "source": [
    "def read_idx1_ubyte(label_file):\n",
    "    with open(label_file, 'rb') as f:\n",
    "        magic, num_items = struct.unpack('>II', f.read(8))\n",
    "        if magic != 2049:\n",
    "            raise ValueError(f'Invalid label file magic number: {magic}')\n",
    "        labels = list(f.read(num_items))\n",
    "    return labels\n",
    "\n",
    "def read_idx3_ubyte(image_file):\n",
    "    with open(image_file, 'rb') as f:\n",
    "        magic, num_images, rows, cols = struct.unpack('>IIII', f.read(16))\n",
    "        if magic != 2051:\n",
    "            raise ValueError(f'Invalid image file magic number: {magic}')\n",
    "        images = []\n",
    "        for _ in range(num_images):\n",
    "            image = list(f.read(rows * cols))\n",
    "            images.append(image)\n",
    "    return images"
   ],
   "id": "9f2d7eec5c8d6bc",
   "outputs": [],
   "execution_count": 2
  },
  {
   "metadata": {
    "ExecuteTime": {
     "end_time": "2025-06-16T02:46:22.669394Z",
     "start_time": "2025-06-16T02:46:22.666105Z"
    }
   },
   "cell_type": "code",
   "source": [
    "def convert_mnist_to_csv(label_file, image_file, output_csv):\n",
    "    labels = read_idx1_ubyte(label_file)\n",
    "    images = read_idx3_ubyte(image_file)\n",
    "\n",
    "    if len(labels) != len(images):\n",
    "        raise ValueError(\"Number of labels and images do not match\")\n",
    "\n",
    "    with open(output_csv, 'w', newline='') as f_out:\n",
    "        writer = csv.writer(f_out)\n",
    "        header = ['label'] + [f'pixel{i}' for i in range(784)]\n",
    "        writer.writerow(header)\n",
    "\n",
    "        for label, image in zip(labels, images):\n",
    "            writer.writerow([label] + image)\n"
   ],
   "id": "d601fd7d41f41624",
   "outputs": [],
   "execution_count": 3
  },
  {
   "metadata": {
    "ExecuteTime": {
     "end_time": "2025-06-16T02:46:26.027747Z",
     "start_time": "2025-06-16T02:46:22.678536Z"
    }
   },
   "cell_type": "code",
   "source": [
    "# Example usage\n",
    "convert_mnist_to_csv('OriginalMNISTDataset/train-labels.idx1-ubyte', 'OriginalMNISTDataset/train-images.idx3-ubyte', 'CSVMNISTDataset/mnist_train.csv')"
   ],
   "id": "96798bd7fb8c27df",
   "outputs": [],
   "execution_count": 4
  },
  {
   "metadata": {
    "ExecuteTime": {
     "end_time": "2025-06-16T02:48:51.098493Z",
     "start_time": "2025-06-16T02:48:50.537990Z"
    }
   },
   "cell_type": "code",
   "source": "convert_mnist_to_csv('OriginalMNISTDataset/test-labels.idx1-ubyte', 'OriginalMNISTDataset/test-images.idx3-ubyte', 'CSVMNISTDataset/mnist_test.csv')",
   "id": "5dc162a435cd095b",
   "outputs": [],
   "execution_count": 5
  }
 ],
 "metadata": {
  "kernelspec": {
   "display_name": "Python 3",
   "language": "python",
   "name": "python3"
  },
  "language_info": {
   "codemirror_mode": {
    "name": "ipython",
    "version": 2
   },
   "file_extension": ".py",
   "mimetype": "text/x-python",
   "name": "python",
   "nbconvert_exporter": "python",
   "pygments_lexer": "ipython2",
   "version": "2.7.6"
  }
 },
 "nbformat": 4,
 "nbformat_minor": 5
}
